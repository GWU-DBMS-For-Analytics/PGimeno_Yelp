{
 "cells": [
  {
   "cell_type": "code",
   "execution_count": 91,
   "id": "varying-bosnia",
   "metadata": {},
   "outputs": [],
   "source": [
    "from sqlalchemy.orm import sessionmaker\n",
    "from sqlalchemy import create_engine, MetaData, Table, and_, or_, func\n",
    "import pandas as pd"
   ]
  },
  {
   "cell_type": "code",
   "execution_count": 159,
   "id": "characteristic-pierre",
   "metadata": {},
   "outputs": [],
   "source": [
    "# create an engine which bindes to our sqlite instance\n",
    "engine = create_engine('sqlite:///yelp.db', echo=False)\n",
    "\n",
    "#get the declare a metadata instance to get the metadata off  our tables\n",
    "meta = MetaData(engine)\n",
    "\n",
    "#represent our sql tables as python objects\n",
    "business = Table('business', meta, autoload=True)\n",
    "users = Table('users',meta,autoload=True)\n",
    "reviews = Table('reviews',meta,autoload=True)\n",
    "\n",
    "#establish session with our database\n",
    "DBSession = sessionmaker(bind=engine)\n",
    "session = DBSession()"
   ]
  },
  {
   "cell_type": "markdown",
   "id": "biblical-composite",
   "metadata": {},
   "source": [
    "# Finding states with the most registered businesses\n",
    "- keeping states with 10K+ business establishments"
   ]
  },
  {
   "cell_type": "code",
   "execution_count": 114,
   "id": "native-talent",
   "metadata": {},
   "outputs": [
    {
     "data": {
      "text/html": [
       "<div>\n",
       "<style scoped>\n",
       "    .dataframe tbody tr th:only-of-type {\n",
       "        vertical-align: middle;\n",
       "    }\n",
       "\n",
       "    .dataframe tbody tr th {\n",
       "        vertical-align: top;\n",
       "    }\n",
       "\n",
       "    .dataframe thead th {\n",
       "        text-align: right;\n",
       "    }\n",
       "</style>\n",
       "<table border=\"1\" class=\"dataframe\">\n",
       "  <thead>\n",
       "    <tr style=\"text-align: right;\">\n",
       "      <th></th>\n",
       "      <th>state</th>\n",
       "      <th>num_businesses</th>\n",
       "    </tr>\n",
       "  </thead>\n",
       "  <tbody>\n",
       "    <tr>\n",
       "      <th>0</th>\n",
       "      <td>MA</td>\n",
       "      <td>36012</td>\n",
       "    </tr>\n",
       "    <tr>\n",
       "      <th>1</th>\n",
       "      <td>OR</td>\n",
       "      <td>25175</td>\n",
       "    </tr>\n",
       "    <tr>\n",
       "      <th>2</th>\n",
       "      <td>TX</td>\n",
       "      <td>24485</td>\n",
       "    </tr>\n",
       "    <tr>\n",
       "      <th>3</th>\n",
       "      <td>FL</td>\n",
       "      <td>21907</td>\n",
       "    </tr>\n",
       "    <tr>\n",
       "      <th>4</th>\n",
       "      <td>GA</td>\n",
       "      <td>18090</td>\n",
       "    </tr>\n",
       "    <tr>\n",
       "      <th>5</th>\n",
       "      <td>BC</td>\n",
       "      <td>17298</td>\n",
       "    </tr>\n",
       "    <tr>\n",
       "      <th>6</th>\n",
       "      <td>OH</td>\n",
       "      <td>11258</td>\n",
       "    </tr>\n",
       "  </tbody>\n",
       "</table>\n",
       "</div>"
      ],
      "text/plain": [
       "  state  num_businesses\n",
       "0    MA           36012\n",
       "1    OR           25175\n",
       "2    TX           24485\n",
       "3    FL           21907\n",
       "4    GA           18090\n",
       "5    BC           17298\n",
       "6    OH           11258"
      ]
     },
     "execution_count": 114,
     "metadata": {},
     "output_type": "execute_result"
    }
   ],
   "source": [
    "query = ( \n",
    "    session.query(business.c.state,func.count(business.c.business_id).label('num_businesses'))\n",
    "    .group_by(business.c.state)\n",
    "    .having(func.count(business.c.business_id) > 10000)\n",
    "    .order_by(func.count(business.c.business_id).desc()) \n",
    "    \n",
    "    )\n",
    "\n",
    "pd.read_sql(query.statement,session.bind)"
   ]
  },
  {
   "cell_type": "markdown",
   "id": "minimal-single",
   "metadata": {},
   "source": [
    "# Question 1: Which states have the most business listings, reviews and average stars?"
   ]
  },
  {
   "cell_type": "code",
   "execution_count": 166,
   "id": "static-gauge",
   "metadata": {},
   "outputs": [
    {
     "data": {
      "text/html": [
       "<div>\n",
       "<style scoped>\n",
       "    .dataframe tbody tr th:only-of-type {\n",
       "        vertical-align: middle;\n",
       "    }\n",
       "\n",
       "    .dataframe tbody tr th {\n",
       "        vertical-align: top;\n",
       "    }\n",
       "\n",
       "    .dataframe thead th {\n",
       "        text-align: right;\n",
       "    }\n",
       "</style>\n",
       "<table border=\"1\" class=\"dataframe\">\n",
       "  <thead>\n",
       "    <tr style=\"text-align: right;\">\n",
       "      <th></th>\n",
       "      <th>state</th>\n",
       "      <th>num_businesses</th>\n",
       "      <th>avg_stars</th>\n",
       "      <th>num_reviews</th>\n",
       "    </tr>\n",
       "  </thead>\n",
       "  <tbody>\n",
       "    <tr>\n",
       "      <th>0</th>\n",
       "      <td>OR</td>\n",
       "      <td>25175</td>\n",
       "      <td>3.863873</td>\n",
       "      <td>55.580457</td>\n",
       "    </tr>\n",
       "    <tr>\n",
       "      <th>1</th>\n",
       "      <td>TX</td>\n",
       "      <td>24485</td>\n",
       "      <td>3.846314</td>\n",
       "      <td>59.398285</td>\n",
       "    </tr>\n",
       "    <tr>\n",
       "      <th>2</th>\n",
       "      <td>MA</td>\n",
       "      <td>36012</td>\n",
       "      <td>3.618211</td>\n",
       "      <td>55.909058</td>\n",
       "    </tr>\n",
       "    <tr>\n",
       "      <th>3</th>\n",
       "      <td>FL</td>\n",
       "      <td>21907</td>\n",
       "      <td>3.554343</td>\n",
       "      <td>49.979276</td>\n",
       "    </tr>\n",
       "    <tr>\n",
       "      <th>4</th>\n",
       "      <td>OH</td>\n",
       "      <td>11258</td>\n",
       "      <td>3.533043</td>\n",
       "      <td>36.802363</td>\n",
       "    </tr>\n",
       "    <tr>\n",
       "      <th>5</th>\n",
       "      <td>BC</td>\n",
       "      <td>17298</td>\n",
       "      <td>3.512574</td>\n",
       "      <td>34.818650</td>\n",
       "    </tr>\n",
       "    <tr>\n",
       "      <th>6</th>\n",
       "      <td>GA</td>\n",
       "      <td>18090</td>\n",
       "      <td>3.507822</td>\n",
       "      <td>61.505583</td>\n",
       "    </tr>\n",
       "  </tbody>\n",
       "</table>\n",
       "</div>"
      ],
      "text/plain": [
       "  state  num_businesses  avg_stars  num_reviews\n",
       "0    OR           25175   3.863873    55.580457\n",
       "1    TX           24485   3.846314    59.398285\n",
       "2    MA           36012   3.618211    55.909058\n",
       "3    FL           21907   3.554343    49.979276\n",
       "4    OH           11258   3.533043    36.802363\n",
       "5    BC           17298   3.512574    34.818650\n",
       "6    GA           18090   3.507822    61.505583"
      ]
     },
     "execution_count": 166,
     "metadata": {},
     "output_type": "execute_result"
    }
   ],
   "source": [
    "query = ( \n",
    "    session.query(business.c.state,\n",
    "                  func.count(business.c.business_id).label('num_businesses'),\n",
    "                  func.avg(business.c.stars).label('avg_stars'),\n",
    "                  func.avg(business.c.review_count).label('num_reviews'))\n",
    "    .group_by(business.c.state)\n",
    "    .having(func.count(business.c.business_id) > 10000)\n",
    "    .order_by(func.avg(business.c.stars).desc(),\n",
    "             func.avg(business.c.review_count).desc()) \n",
    "    )\n",
    "\n",
    "\n",
    "pd.read_sql(query.statement,session.bind)"
   ]
  },
  {
   "cell_type": "markdown",
   "id": "permanent-period",
   "metadata": {},
   "source": [
    "# Question 2 and 3: Finding the most popular restaurant in Oregon"
   ]
  },
  {
   "cell_type": "code",
   "execution_count": 174,
   "id": "contained-empire",
   "metadata": {
    "scrolled": true
   },
   "outputs": [
    {
     "data": {
      "text/html": [
       "<div>\n",
       "<style scoped>\n",
       "    .dataframe tbody tr th:only-of-type {\n",
       "        vertical-align: middle;\n",
       "    }\n",
       "\n",
       "    .dataframe tbody tr th {\n",
       "        vertical-align: top;\n",
       "    }\n",
       "\n",
       "    .dataframe thead th {\n",
       "        text-align: right;\n",
       "    }\n",
       "</style>\n",
       "<table border=\"1\" class=\"dataframe\">\n",
       "  <thead>\n",
       "    <tr style=\"text-align: right;\">\n",
       "      <th></th>\n",
       "      <th>business_id</th>\n",
       "      <th>name</th>\n",
       "      <th>address</th>\n",
       "      <th>city</th>\n",
       "      <th>state</th>\n",
       "      <th>postal_code</th>\n",
       "      <th>latitude</th>\n",
       "      <th>longitude</th>\n",
       "      <th>stars</th>\n",
       "      <th>review_count</th>\n",
       "      <th>is_open</th>\n",
       "      <th>business_attribute_id</th>\n",
       "    </tr>\n",
       "  </thead>\n",
       "  <tbody>\n",
       "    <tr>\n",
       "      <th>0</th>\n",
       "      <td>4CxF8c3MB7VAdY8zFb2cZQ</td>\n",
       "      <td>Voodoo Doughnut - Old Town</td>\n",
       "      <td>22 SW 3rd Ave</td>\n",
       "      <td>Portland</td>\n",
       "      <td>OR</td>\n",
       "      <td>97204</td>\n",
       "      <td>45.522612</td>\n",
       "      <td>-122.673084</td>\n",
       "      <td>3.5</td>\n",
       "      <td>9185</td>\n",
       "      <td>1</td>\n",
       "      <td>4CxF8c3MB7VAdY8zFb2cZQ</td>\n",
       "    </tr>\n",
       "  </tbody>\n",
       "</table>\n",
       "</div>"
      ],
      "text/plain": [
       "              business_id                        name        address  \\\n",
       "0  4CxF8c3MB7VAdY8zFb2cZQ  Voodoo Doughnut - Old Town  22 SW 3rd Ave   \n",
       "\n",
       "       city state postal_code   latitude   longitude  stars  review_count  \\\n",
       "0  Portland    OR       97204  45.522612 -122.673084    3.5          9185   \n",
       "\n",
       "   is_open   business_attribute_id  \n",
       "0        1  4CxF8c3MB7VAdY8zFb2cZQ  "
      ]
     },
     "execution_count": 174,
     "metadata": {},
     "output_type": "execute_result"
    }
   ],
   "source": [
    "query = (\n",
    "    session.query(business)\n",
    "    .filter(business.c.state == 'OR')\n",
    "    .filter(business.c.city == 'Portland')\n",
    "    .order_by(business.c.review_count.desc())\n",
    "    .limit(1)\n",
    ")\n",
    "\n",
    "pd.read_sql(query.statement,session.bind)"
   ]
  },
  {
   "cell_type": "markdown",
   "id": "modified-delta",
   "metadata": {},
   "source": [
    "### We can easily get the id of this restaurant and all of its corresponding attributes as shown:\n",
    "\n"
   ]
  },
  {
   "cell_type": "code",
   "execution_count": 179,
   "id": "transsexual-pasta",
   "metadata": {},
   "outputs": [
    {
     "data": {
      "text/plain": [
       "'Voodoo Doughnut - Old Town'"
      ]
     },
     "execution_count": 179,
     "metadata": {},
     "output_type": "execute_result"
    }
   ],
   "source": [
    "top_business = (\n",
    "    session.query(business)\n",
    "    .filter(business.c.state == 'OR')\n",
    "    .filter(business.c.city == 'Portland')\n",
    "    .order_by(business.c.review_count.desc())\n",
    "    .first()\n",
    ")\n",
    "\n",
    "top_business.name"
   ]
  },
  {
   "cell_type": "code",
   "execution_count": 180,
   "id": "collect-oriental",
   "metadata": {},
   "outputs": [
    {
     "data": {
      "text/plain": [
       "9185"
      ]
     },
     "execution_count": 180,
     "metadata": {},
     "output_type": "execute_result"
    }
   ],
   "source": [
    "top_business.review_count"
   ]
  },
  {
   "cell_type": "code",
   "execution_count": 181,
   "id": "environmental-mississippi",
   "metadata": {},
   "outputs": [
    {
     "data": {
      "text/plain": [
       "'4CxF8c3MB7VAdY8zFb2cZQ'"
      ]
     },
     "execution_count": 181,
     "metadata": {},
     "output_type": "execute_result"
    }
   ],
   "source": [
    "top_business.business_id"
   ]
  },
  {
   "cell_type": "markdown",
   "id": "convertible-impossible",
   "metadata": {},
   "source": [
    "# Questions 4 and 5: Finding the most negative reviewer for this restaurant"
   ]
  },
  {
   "cell_type": "code",
   "execution_count": 192,
   "id": "ready-morris",
   "metadata": {},
   "outputs": [
    {
     "data": {
      "text/html": [
       "<div>\n",
       "<style scoped>\n",
       "    .dataframe tbody tr th:only-of-type {\n",
       "        vertical-align: middle;\n",
       "    }\n",
       "\n",
       "    .dataframe tbody tr th {\n",
       "        vertical-align: top;\n",
       "    }\n",
       "\n",
       "    .dataframe thead th {\n",
       "        text-align: right;\n",
       "    }\n",
       "</style>\n",
       "<table border=\"1\" class=\"dataframe\">\n",
       "  <thead>\n",
       "    <tr style=\"text-align: right;\">\n",
       "      <th></th>\n",
       "      <th>review_id</th>\n",
       "      <th>user_id</th>\n",
       "      <th>business_id</th>\n",
       "      <th>stars</th>\n",
       "      <th>useful</th>\n",
       "      <th>funny</th>\n",
       "      <th>cool</th>\n",
       "      <th>text</th>\n",
       "      <th>date</th>\n",
       "      <th>number_of_reviews</th>\n",
       "    </tr>\n",
       "  </thead>\n",
       "  <tbody>\n",
       "    <tr>\n",
       "      <th>0</th>\n",
       "      <td>5nbY1JO2l27lZIN8gvIC7A</td>\n",
       "      <td>Q2u4PQ5_aMBAQtyX19C1Iw</td>\n",
       "      <td>4CxF8c3MB7VAdY8zFb2cZQ</td>\n",
       "      <td>3.0</td>\n",
       "      <td>0</td>\n",
       "      <td>0</td>\n",
       "      <td>1</td>\n",
       "      <td>Their donuts are interesting to look at but I ...</td>\n",
       "      <td>2019-02-27 03:29:35</td>\n",
       "      <td>3</td>\n",
       "    </tr>\n",
       "    <tr>\n",
       "      <th>1</th>\n",
       "      <td>Zsj3nsvclL2OgOmLRdmWfg</td>\n",
       "      <td>vsmhQJ5jkw9wQjfpcOfuJA</td>\n",
       "      <td>4CxF8c3MB7VAdY8zFb2cZQ</td>\n",
       "      <td>2.0</td>\n",
       "      <td>0</td>\n",
       "      <td>0</td>\n",
       "      <td>0</td>\n",
       "      <td>Sorry VooDoo.  You have fallen prey to the tou...</td>\n",
       "      <td>2011-03-20 22:16:57</td>\n",
       "      <td>3</td>\n",
       "    </tr>\n",
       "    <tr>\n",
       "      <th>2</th>\n",
       "      <td>gpodEglDZd7u_A1-xqccXg</td>\n",
       "      <td>m2XKqIaqB2P5GGm7cqZr2A</td>\n",
       "      <td>4CxF8c3MB7VAdY8zFb2cZQ</td>\n",
       "      <td>5.0</td>\n",
       "      <td>5</td>\n",
       "      <td>5</td>\n",
       "      <td>6</td>\n",
       "      <td>No visit to Portland is complete without stopp...</td>\n",
       "      <td>2011-08-04 16:24:06</td>\n",
       "      <td>3</td>\n",
       "    </tr>\n",
       "  </tbody>\n",
       "</table>\n",
       "</div>"
      ],
      "text/plain": [
       "                review_id                 user_id             business_id  \\\n",
       "0  5nbY1JO2l27lZIN8gvIC7A  Q2u4PQ5_aMBAQtyX19C1Iw  4CxF8c3MB7VAdY8zFb2cZQ   \n",
       "1  Zsj3nsvclL2OgOmLRdmWfg  vsmhQJ5jkw9wQjfpcOfuJA  4CxF8c3MB7VAdY8zFb2cZQ   \n",
       "2  gpodEglDZd7u_A1-xqccXg  m2XKqIaqB2P5GGm7cqZr2A  4CxF8c3MB7VAdY8zFb2cZQ   \n",
       "\n",
       "   stars  useful  funny  cool  \\\n",
       "0    3.0       0      0     1   \n",
       "1    2.0       0      0     0   \n",
       "2    5.0       5      5     6   \n",
       "\n",
       "                                                text                 date  \\\n",
       "0  Their donuts are interesting to look at but I ...  2019-02-27 03:29:35   \n",
       "1  Sorry VooDoo.  You have fallen prey to the tou...  2011-03-20 22:16:57   \n",
       "2  No visit to Portland is complete without stopp...  2011-08-04 16:24:06   \n",
       "\n",
       "   number_of_reviews  \n",
       "0                  3  \n",
       "1                  3  \n",
       "2                  3  "
      ]
     },
     "execution_count": 192,
     "metadata": {},
     "output_type": "execute_result"
    }
   ],
   "source": [
    "query = (\n",
    "    session.query(reviews,\n",
    "                 func.count(reviews.c.user_id).label('number_of_reviews'))\n",
    "    .filter(reviews.c.business_id == top_business.business_id)\n",
    "    .group_by(reviews.c.user_id)\n",
    "    .order_by(func.count(reviews.c.user_id).desc(),\n",
    "              func.avg(reviews.c.stars).asc())\n",
    "    .limit(3)\n",
    ")\n",
    "pd.read_sql(query.statement,session.bind)"
   ]
  },
  {
   "cell_type": "markdown",
   "id": "boolean-meaning",
   "metadata": {},
   "source": [
    "### finding the negative reviewer"
   ]
  },
  {
   "cell_type": "code",
   "execution_count": 230,
   "id": "liable-lewis",
   "metadata": {},
   "outputs": [],
   "source": [
    "#returns a sql alchemy row object that contains the result\n",
    "neg_reviewer = (\n",
    "    session.query(reviews,\n",
    "                 func.count(reviews.c.user_id).label('number_of_reviews'))\n",
    "    .filter(reviews.c.business_id == top_business.business_id)\n",
    "    .group_by(reviews.c.user_id)    \n",
    "    .order_by(func.count(reviews.c.user_id).desc(),\n",
    "              func.avg(reviews.c.stars).asc())\n",
    "    .first()\n",
    ")"
   ]
  },
  {
   "cell_type": "markdown",
   "id": "finite-comparison",
   "metadata": {},
   "source": [
    "### every result set becomes a row object"
   ]
  },
  {
   "cell_type": "code",
   "execution_count": 229,
   "id": "herbal-bumper",
   "metadata": {},
   "outputs": [
    {
     "data": {
      "text/plain": [
       "sqlalchemy.engine.row.Row"
      ]
     },
     "execution_count": 229,
     "metadata": {},
     "output_type": "execute_result"
    }
   ],
   "source": [
    "type(neg_reviewer)"
   ]
  },
  {
   "cell_type": "markdown",
   "id": "universal-popularity",
   "metadata": {},
   "source": [
    "### we can access the attributes of the row like a Python object"
   ]
  },
  {
   "cell_type": "code",
   "execution_count": 227,
   "id": "invalid-emerald",
   "metadata": {},
   "outputs": [
    {
     "data": {
      "text/plain": [
       "'Q2u4PQ5_aMBAQtyX19C1Iw'"
      ]
     },
     "execution_count": 227,
     "metadata": {},
     "output_type": "execute_result"
    }
   ],
   "source": [
    "neg_reviewer.user_id"
   ]
  },
  {
   "cell_type": "markdown",
   "id": "sixth-daily",
   "metadata": {},
   "source": [
    "### we can now dynamically populate sqlalchemy queries with row object attributes (ie. neg_reviewer.user_id)"
   ]
  },
  {
   "cell_type": "code",
   "execution_count": 232,
   "id": "considered-dispatch",
   "metadata": {},
   "outputs": [
    {
     "data": {
      "text/html": [
       "<div>\n",
       "<style scoped>\n",
       "    .dataframe tbody tr th:only-of-type {\n",
       "        vertical-align: middle;\n",
       "    }\n",
       "\n",
       "    .dataframe tbody tr th {\n",
       "        vertical-align: top;\n",
       "    }\n",
       "\n",
       "    .dataframe thead th {\n",
       "        text-align: right;\n",
       "    }\n",
       "</style>\n",
       "<table border=\"1\" class=\"dataframe\">\n",
       "  <thead>\n",
       "    <tr style=\"text-align: right;\">\n",
       "      <th></th>\n",
       "      <th>user_name</th>\n",
       "      <th>review_id</th>\n",
       "      <th>user_id</th>\n",
       "      <th>business_id</th>\n",
       "      <th>stars</th>\n",
       "      <th>useful</th>\n",
       "      <th>funny</th>\n",
       "      <th>cool</th>\n",
       "      <th>text</th>\n",
       "      <th>date</th>\n",
       "    </tr>\n",
       "  </thead>\n",
       "  <tbody>\n",
       "    <tr>\n",
       "      <th>0</th>\n",
       "      <td>David</td>\n",
       "      <td>S02GSYVuVx7PqnEi8OLiUg</td>\n",
       "      <td>Q2u4PQ5_aMBAQtyX19C1Iw</td>\n",
       "      <td>H_RM2u1WWGU1HkKZrYq2Ow</td>\n",
       "      <td>1.0</td>\n",
       "      <td>0</td>\n",
       "      <td>0</td>\n",
       "      <td>0</td>\n",
       "      <td>I don't care for their donuts at all. I first ...</td>\n",
       "      <td>2019-02-27 03:32:57</td>\n",
       "    </tr>\n",
       "    <tr>\n",
       "      <th>1</th>\n",
       "      <td>David</td>\n",
       "      <td>G1O3L_hGb_LsVolG_hAUmg</td>\n",
       "      <td>Q2u4PQ5_aMBAQtyX19C1Iw</td>\n",
       "      <td>w1tTsQKoPg5qBE7swhkXlg</td>\n",
       "      <td>5.0</td>\n",
       "      <td>1</td>\n",
       "      <td>0</td>\n",
       "      <td>1</td>\n",
       "      <td>Svetlana is a great masseuse. I go for massage...</td>\n",
       "      <td>2019-06-22 22:26:03</td>\n",
       "    </tr>\n",
       "    <tr>\n",
       "      <th>2</th>\n",
       "      <td>David</td>\n",
       "      <td>iZ4AYmnSQescTIjS7uUB3w</td>\n",
       "      <td>Q2u4PQ5_aMBAQtyX19C1Iw</td>\n",
       "      <td>z1QhExIrJH0cnBdQKrsk0g</td>\n",
       "      <td>5.0</td>\n",
       "      <td>0</td>\n",
       "      <td>0</td>\n",
       "      <td>0</td>\n",
       "      <td>Its a very lovely restaurant with an excellent...</td>\n",
       "      <td>2019-06-27 06:28:02</td>\n",
       "    </tr>\n",
       "  </tbody>\n",
       "</table>\n",
       "</div>"
      ],
      "text/plain": [
       "  user_name               review_id                 user_id  \\\n",
       "0     David  S02GSYVuVx7PqnEi8OLiUg  Q2u4PQ5_aMBAQtyX19C1Iw   \n",
       "1     David  G1O3L_hGb_LsVolG_hAUmg  Q2u4PQ5_aMBAQtyX19C1Iw   \n",
       "2     David  iZ4AYmnSQescTIjS7uUB3w  Q2u4PQ5_aMBAQtyX19C1Iw   \n",
       "\n",
       "              business_id  stars  useful  funny  cool  \\\n",
       "0  H_RM2u1WWGU1HkKZrYq2Ow    1.0       0      0     0   \n",
       "1  w1tTsQKoPg5qBE7swhkXlg    5.0       1      0     1   \n",
       "2  z1QhExIrJH0cnBdQKrsk0g    5.0       0      0     0   \n",
       "\n",
       "                                                text                 date  \n",
       "0  I don't care for their donuts at all. I first ...  2019-02-27 03:32:57  \n",
       "1  Svetlana is a great masseuse. I go for massage...  2019-06-22 22:26:03  \n",
       "2  Its a very lovely restaurant with an excellent...  2019-06-27 06:28:02  "
      ]
     },
     "execution_count": 232,
     "metadata": {},
     "output_type": "execute_result"
    }
   ],
   "source": [
    "query = (\n",
    "    session.query(users.c.name.label('user_name'),reviews)\n",
    "    .join(users, reviews.c.user_id == users.c.user_id)\n",
    "    .filter(users.c.user_id == neg_reviewer.user_id)\n",
    ")\n",
    "\n",
    "pd.read_sql(query.statement,session.bind).head(3)"
   ]
  },
  {
   "cell_type": "code",
   "execution_count": null,
   "id": "adverse-turtle",
   "metadata": {},
   "outputs": [],
   "source": []
  }
 ],
 "metadata": {
  "kernelspec": {
   "display_name": "Python 3",
   "language": "python",
   "name": "python3"
  },
  "language_info": {
   "codemirror_mode": {
    "name": "ipython",
    "version": 3
   },
   "file_extension": ".py",
   "mimetype": "text/x-python",
   "name": "python",
   "nbconvert_exporter": "python",
   "pygments_lexer": "ipython3",
   "version": "3.8.5"
  }
 },
 "nbformat": 4,
 "nbformat_minor": 5
}
